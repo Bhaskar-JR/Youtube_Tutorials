{
 "cells": [
  {
   "cell_type": "markdown",
   "metadata": {
    "slideshow": {
     "slide_type": "slide"
    }
   },
   "source": [
    "# HTML5 and CSS3 Tutorials.\n",
    "\n",
    "A beginner's guide to front end web development.\n",
    "\n",
    "Arun Prasaad Gunasekaran"
   ]
  },
  {
   "cell_type": "markdown",
   "metadata": {
    "slideshow": {
     "slide_type": "slide"
    }
   },
   "source": [
    "## What is this playlist about?\n",
    "\n",
    "* Talks about the building blocks of HTML5 and CSS3.\n",
    "* Further backed up by some neat close to real time application oriented examples.\n",
    "* Intended for beginners."
   ]
  },
  {
   "cell_type": "markdown",
   "metadata": {
    "slideshow": {
     "slide_type": "slide"
    }
   },
   "source": [
    "## Uses\n",
    "\n",
    "* Making websites and webpages.\n",
    "* Making internet applications.\n",
    "* Front-end or GUI for software like editors, games."
   ]
  },
  {
   "cell_type": "markdown",
   "metadata": {
    "slideshow": {
     "slide_type": "subslide"
    }
   },
   "source": [
    "## Things to keep in mind\n",
    "\n",
    "* HTML - Hyper Text Markup Language\n",
    "    * Technically not a Programming Language.\n",
    "    * List of tags surrounding the contents of your webpage.\n",
    "    * Helps you to place contents in an orderly manner.\n",
    "\n",
    "* CSS - Cascading Style Sheets.\n",
    "    * Technically not a Programming Language.\n",
    "    * List of styles you want the webpage elements to follow.\n",
    "    * Helps you make the webpages pretty.\n",
    "\n",
    "* JavaScript, PHP\n",
    "    * Programming languages to assist programming functionality in websites.\n",
    "    \n",
    "**We will be following HTML5 and CSS3 standards.**"
   ]
  },
  {
   "cell_type": "markdown",
   "metadata": {
    "slideshow": {
     "slide_type": "slide"
    }
   },
   "source": [
    "## What is HTML?\n",
    "\n",
    "HTML stands for _Hyper Text Markup Language_. It is not a programming language. It helps to write or create contents. Used primaily for creating web pages and web applications, HTML is also used these days in conjuction with other tools and technologies for creating web applications, even GUI, and software.\n",
    "\n",
    "Web pages and web applications created solely based on HTML are not visually appealing. For that, one needs to use tools such as **CSS** or Cascading Style Sheets.\n",
    "\n",
    "**JavaScript and PHP** are the defacto programming languages for developing web applications and programming functionality in websites. JavaScript is particularly popular because of its features and powers. The implementation features are great leading to an explosion of library bundles for various purposes such as AngularJS, NodeJS, ReactJS etc., PHP and JavaScript are useful for dynamically creating webpages with variables!\n",
    "\n",
    "HTML has a long history. Prior to the current standard HTML5, the previous versions have standards issue; each version had rules and protocols, leading to websites developed with one version not compatible with other machines or web browsers and many more. Some of the older versions are XHTML, HTML 1-4.\n",
    "\n",
    "All of these notes are going to be in __HTML5__\n",
    "\n",
    "The extension of html file is ``.html``, but you can find other mild alterations here and there.\n",
    "\n",
    "Also, there is another Markup language called **SVG** or Scalable Vector Graphics. It is similar to HTML."
   ]
  },
  {
   "cell_type": "markdown",
   "metadata": {
    "slideshow": {
     "slide_type": "slide"
    }
   },
   "source": [
    "## What do you need to get started?\n",
    "\n",
    "### Web Browser\n",
    "\n",
    "* Preferred:\n",
    "    * Google Chrome,\n",
    "    * Mozilla Firefox,\n",
    "    * Safari, Opera,\n",
    "* Okay:\n",
    "    * Microsoft Edge,\n",
    "    * Any other web browser,\n",
    "* Not at all Preferred:\n",
    "    * Internet Explorer"
   ]
  },
  {
   "cell_type": "markdown",
   "metadata": {
    "slideshow": {
     "slide_type": "subslide"
    }
   },
   "source": [
    "## What do you need to get started?\n",
    "\n",
    "### Text Editor\n",
    "\n",
    "* Pick one that you are comfortable with.\n",
    "* If the editors have some or most of the following features, it would be helpful to you.\n",
    "    * Syntax Highlights\n",
    "    * Previews of Pages\n",
    "    * Code completion\n",
    "    * Error checking\n",
    "* Some suggestions (based on my experience):\n",
    "    * Latest ones out there that are free to use and has best features and multi-purpose. \n",
    "        * eg: Atom, Microsoft Visual Studio Code (My Preference), Sublime, Brackets, Webstorm,\n",
    "    * Heavy Duty, Free, and multi-purpose.\n",
    "        * eg: Eclipse, Netbeans,\n",
    "    * Light and sleek. \n",
    "        * eg: Geany, Notepad++,"
   ]
  },
  {
   "cell_type": "markdown",
   "metadata": {
    "slideshow": {
     "slide_type": "subslide"
    }
   },
   "source": [
    "## My Setup\n",
    "\n",
    "* Text-Editor/IDE : Geany, Microsoft Visual Studio Code (VSCode)\n",
    "    * Fall back: Sublime 3\n",
    "    \n",
    "* Web Browser : Google Chrome\n",
    "    * Fall back: Mozilla Firefox\n",
    "    \n",
    "* Operating System - Manjaro / Ubuntu Linux\n",
    "    * Use any OS that supports a web browser and a text editor"
   ]
  },
  {
   "cell_type": "markdown",
   "metadata": {
    "slideshow": {
     "slide_type": "subslide"
    }
   },
   "source": [
    "## Useful Plugins when using VSCode\n",
    "\n",
    "* Bracket Pair Colorizer,\n",
    "* Emmet - for auto completion, (built-in in recent versions.)\n",
    "* Live Server - to update and see your webpage instantly,\n",
    "* IntelliSense for CSS class names in HTML - for auto completion,\n",
    "\n",
    "#### Optional\n",
    "\n",
    "* Live Sass Compiler - to autocompile Sass/Scss files,\n",
    "* ESlint for JavaScript.\n",
    "* vscode-icons - fancy icons for looks and style,"
   ]
  },
  {
   "cell_type": "markdown",
   "metadata": {
    "slideshow": {
     "slide_type": "slide"
    }
   },
   "source": [
    "## Some notes\n",
    "* No other software needed!\n",
    "* Cross platform! Not dependent on OS\n",
    "* The extension is \\*.html for the html pages\n",
    "* The home page is called ``index.html``\n",
    "* You do not need a server while testing and building\n",
    "* However, you need a server and domain name for hosting it in the internet."
   ]
  },
  {
   "cell_type": "markdown",
   "metadata": {
    "slideshow": {
     "slide_type": "slide"
    }
   },
   "source": [
    "## Structure of a Webpage\n",
    "\n",
    "The structure of any webpage looks like this.\n",
    "\n",
    "```HTML\n",
    "<!DOCTYPE html> <!-- This tells the type of the HTML version used -->\n",
    "<html>\n",
    "\n",
    "    <head>\n",
    "        <!-- Head of the file. Has metadata for search.\n",
    "        Also has scripts and script links for CSS,\n",
    "        JavaScript -->\n",
    "        <meta charset=\"utf-8\">\n",
    "        <title> Title of the Page </title>\n",
    "        <!-- Other contents -->\n",
    "    </head>\n",
    "\n",
    "    <body>\n",
    "        <!-- This is the body of the file! -->\n",
    "        <!-- All the contents here are displayed in the browser. -->\n",
    "        <!-- Other contents -->\n",
    "    </body>\n",
    "\n",
    "</html>\n",
    "```"
   ]
  },
  {
   "cell_type": "markdown",
   "metadata": {
    "slideshow": {
     "slide_type": "slide"
    }
   },
   "source": [
    "## Sandwich method.\n",
    "\n",
    "Almost all the features of a web-page is built based on tags.\n",
    "HTML tags follow a sandwich method, wherein all features are placed in pair-tags and all subsequent lower-order pair-tags are placed within other higher-order pair-tags. Also called as \"tag-embedding\". \n",
    "Apparently, the tags appear case-insensitive. The HTML5 standard does not require lowercase tags, but W3C recommends lowercase in HTML4, and demands lowercase for stricter document types like XHTML. \n",
    "\n",
    "Source: W3 Schools\n"
   ]
  },
  {
   "cell_type": "markdown",
   "metadata": {
    "slideshow": {
     "slide_type": "slide"
    }
   },
   "source": [
    "## Rules in Tags\n",
    "\n",
    "```HTML\n",
    "\n",
    "<tagname> content </tagname>\n",
    "\n",
    "<title> Home page </title>\n",
    "\n",
    "<img>\n",
    "\n",
    "```\n",
    "\n",
    "* Contents are enveloped in tags.\n",
    "* Tags are commands enveloped in angle brackets (or less than, greater than signs).\n",
    "* Most tags are in pairs. Closing tag has a forward slash.\n",
    "* Some tags are single."
   ]
  },
  {
   "cell_type": "markdown",
   "metadata": {
    "slideshow": {
     "slide_type": "slide"
    }
   },
   "source": [
    "### Doctype tag\n",
    "\n",
    "\n",
    "```HTML\n",
    "<!DOCTYPE html>\n",
    "```\n",
    "\n",
    "Short for Document Tag. Not a tag, but a declaration. Tells the web browser what definitions or version the website uses. This is the default doctype for **HTML5** and future versions. This tag is optional, but it is a good practice to put it. This has to be the first tag on the webpage.\n",
    "\n",
    "Older versions of websites had various definitions and had different versions. Hence, some tags might not be common or available.\n",
    "\n",
    "**HTML 4.01 Strict**\n",
    "\n",
    "```HTML\n",
    "<!DOCTYPE HTML PUBLIC \"-//W3C//DTD HTML 4.01//EN\" \"http://www.w3.org/TR/html4/strict.dtd\">\n",
    "```\n",
    "\n",
    "**HTML 4.01 Transitional**\n",
    "\n",
    "```HTML\n",
    "<!DOCTYPE HTML PUBLIC \"-//W3C//DTD HTML 4.01 Transitional//EN\" \"http://www.w3.org/TR/html4/loose.dtd\">\n",
    "```\n",
    "\n",
    "**HTML 4.01 Frameset**\n",
    "\n",
    "```HTML\n",
    "<!DOCTYPE HTML PUBLIC \"-//W3C//DTD HTML 4.01 Frameset//EN\" \"http://www.w3.org/TR/html4/frameset.dtd\">\n",
    "```"
   ]
  },
  {
   "cell_type": "markdown",
   "metadata": {
    "slideshow": {
     "slide_type": "subslide"
    }
   },
   "source": [
    "**XHTML 1.0 Strict**\n",
    "\n",
    "```HTML\n",
    "<!DOCTYPE html PUBLIC \"-//W3C//DTD XHTML 1.0 Strict//EN\" \"http://www.w3.org/TR/xhtml1/DTD/xhtml1-strict.dtd\">\n",
    "```\n",
    "\n",
    "**XHTML 1.0 Transitional**\n",
    "\n",
    "```HTML\n",
    "<!DOCTYPE html PUBLIC \"-//W3C//DTD XHTML 1.0 Transitional//EN\" \"http://www.w3.org/TR/xhtml1/DTD/xhtml1-transitional.dtd\">\n",
    "```\n",
    "\n",
    "**XHTML 1.0 Frameset**\n",
    "```HTML\n",
    "<!DOCTYPE html PUBLIC \"-//W3C//DTD XHTML 1.0 Frameset//EN\" \"http://www.w3.org/TR/xhtml1/DTD/xhtml1-frameset.dtd\">\n",
    "```\n",
    "\n",
    "**XHTML 1.1**\n",
    "```HTML\n",
    "<!DOCTYPE html PUBLIC \"-//W3C//DTD XHTML 1.1//EN\" \"http://www.w3.org/TR/xhtml11/DTD/xhtml11.dtd\">\n",
    "```"
   ]
  },
  {
   "cell_type": "markdown",
   "metadata": {
    "slideshow": {
     "slide_type": "slide"
    }
   },
   "source": [
    "### HTML TAG\n",
    "\n",
    "This is the starting and the ending of the webpage. Every webpage should begin in this manner.\n",
    "\n",
    "```HTML\n",
    "<html>\n",
    "    \n",
    "    <head>\n",
    "    \n",
    "        <!-- Write the important details for the webpage here. Eg: JavaScript links/code, Stylesheets/rules, title and meta-information. -->\n",
    "    \n",
    "    </head>\n",
    "    \n",
    "    <body>\n",
    "    \n",
    "        <!-- Write the body of the webpage here. All the contents you write here will be displayed to the user. -->\n",
    "    \n",
    "    </body>\n",
    "    \n",
    "</html>\n",
    "````"
   ]
  },
  {
   "cell_type": "markdown",
   "metadata": {
    "slideshow": {
     "slide_type": "slide"
    }
   },
   "source": [
    "### ``<html> </html>``\n",
    "This is the wrapper tag for the entire webpage. It starts and ends the webpage. This is compulsory.\n",
    "\n",
    "### ``<head> </head>``\n",
    "This is the head tag. It contains metadata that is useful for getting information while searching for webpages in the internet.\n",
    "The contents of the head tag are not displayed in the website. It has provisions to include JavaScript functions, CSS code and links to JavaScript and CSS files located externally.\n",
    "\n",
    "### ``<body> </body>``\n",
    "This is the body tag. All the contents written and displayed on the webpage goes here. You write whatever you want to inside here. Also, you can include small JavaScript functions and code snippets here."
   ]
  },
  {
   "cell_type": "markdown",
   "metadata": {
    "slideshow": {
     "slide_type": "slide"
    }
   },
   "source": [
    "### Quick tips\n",
    "\n",
    "You can view the source code of the webpage inside a web browser. Also, there are developer tools in Chrome (press ``F12``) (console, elements tab, etc.,) that are particularly useful while developing webpages to look at the various parts of the webpage and also to catch errors while using and running JavaScript and or PHP code"
   ]
  },
  {
   "cell_type": "markdown",
   "metadata": {
    "slideshow": {
     "slide_type": "slide"
    }
   },
   "source": [
    "### Comments\n",
    "\n",
    "```HTML\n",
    "<!-- Write your comment here! -->\n",
    "```\n",
    "Comments are ignored. Used for displaying information. They are ignored by default by the browser. It helps the user to write notes and to block code.\n",
    "\n",
    "\n",
    "### Title\n",
    "\n",
    "```HTML\n",
    "<title> Hello, World!</title>\n",
    "```\n",
    "\n",
    "Title of the webpage. Written in the head tag.\n",
    "\n",
    "### Paragraph\n",
    "\n",
    "```HTML\n",
    "<p>\n",
    "    Hello, World! My name is Arun and this is my website. I love it! :)\n",
    "</p>\n",
    "```\n",
    "\n",
    "Write paragraphs using ``<p> ... </p>`` tag. Long written contents are recommended to be written here."
   ]
  },
  {
   "cell_type": "markdown",
   "metadata": {
    "slideshow": {
     "slide_type": "slide"
    }
   },
   "source": [
    "### Headings\n",
    "\n",
    "```HTML\n",
    "\n",
    "<h1> Huge heading </h1>\n",
    "<h2> Large heading </h2>\n",
    "<h3> Medium heading </h3>\n",
    "<h4> Small heading </h4>\n",
    "<h5> Very Small heading </h5>\n",
    "<h6> Tiny heading </h6>\n",
    "```"
   ]
  },
  {
   "cell_type": "markdown",
   "metadata": {
    "slideshow": {
     "slide_type": "slide"
    }
   },
   "source": [
    "### Block Elements vs Inline Elements.\n",
    "\n",
    "* **Block Elements are displayed as blocks.**\n",
    "    * They occupy the full width of the page.\n",
    "    * So, if an element is started, it starts on a new line. \n",
    "    * Any other element started along with a Block element will begin in a new line.\n",
    "    * eg: Paragraph tags, heading tags.\n",
    "        * eg: ``<div>``, ``<h1>``, ``<p>``, ``<form>``\n",
    "\n",
    "\n",
    "* ** Inline elements are displayed in a line.**\n",
    "    * They occupy only the necessary length.\n",
    "    * So, an inline element can start with another element on the same line.\n",
    "    * At the end, another element can begin in the same line.\n",
    "    * eg: Image tag, span tag.\n",
    "        * eg: ``<span>``, ``<img>``, ``<a>``"
   ]
  },
  {
   "cell_type": "markdown",
   "metadata": {
    "slideshow": {
     "slide_type": "slide"
    }
   },
   "source": [
    "\n",
    "### Self closing tags\n",
    "* Takes no contents\n",
    "    * eg: ``<br/>`` (HTML4 and before), ``<br>`` (HTML5)\n",
    "    * eg: ``<img>``\n",
    "* Comes alone. No pairs."
   ]
  },
  {
   "cell_type": "markdown",
   "metadata": {
    "slideshow": {
     "slide_type": "slide"
    }
   },
   "source": [
    "### Text Style\n",
    "\n",
    "**Bold text**\n",
    "\n",
    "```html\n",
    "<strong> bold text </strong>\n",
    "```\n",
    "\n",
    "**Italic text**\n",
    "\n",
    "```html\n",
    "<em> Italic text </em>\n",
    "```\n",
    "\n",
    "** Bold and Italic text **\n",
    "```html\n",
    "<strong> <em> This is a bold and italicised text! </em></strong>\n",
    "```"
   ]
  },
  {
   "cell_type": "markdown",
   "metadata": {
    "slideshow": {
     "slide_type": "slide"
    }
   },
   "source": [
    "### ``<small> </small>``\n",
    "Defines smaller text.\n",
    "```HTML\n",
    "<p>This is <small>small</small> text.</p>\n",
    "```\n",
    "\n",
    "### ``<mark> </mark>``\n",
    "Defines a marked or highlighted text.\n",
    "```HTML\n",
    "<p>This is <mark>marked</mark> text.</p>\n",
    "```\n",
    "\n",
    "### ``<del> </del>``\n",
    "Defines a deleted text.\n",
    "```HTML\n",
    "<p>This is <del>deleted</del> text.</p>\n",
    "```\n",
    "\n",
    "### ``<ins> </ins>``\n",
    "Defines an inserted text.\n",
    "```HTML\n",
    "<p>This is <ins>inserted</ins> text.</p>\n",
    "```"
   ]
  },
  {
   "cell_type": "markdown",
   "metadata": {
    "slideshow": {
     "slide_type": "slide"
    }
   },
   "source": [
    "### ``<sub> </sub>``\n",
    "Defines a subscripted text.\n",
    "```HTML\n",
    "<p>This is <sub>subscripted</sub> text.</p>\n",
    "```\n",
    "\n",
    "### ``<sup> </sup>>``\n",
    "Defines a superscripted text.\n",
    "```HTML\n",
    "<p>This is <sup>superscripted</sup> text.</p>\n",
    "```"
   ]
  },
  {
   "cell_type": "markdown",
   "metadata": {
    "slideshow": {
     "slide_type": "slide"
    }
   },
   "source": [
    "### Links\n",
    "\n",
    "#### ``<a> </a>``\n",
    "This is the _link_ tag. Used for linking a webpage or a particular section in a webpage.\n",
    "\n",
    "Syntax:\n",
    "```HTML\n",
    "<a href=\"link_to_webpage_or_section\" target=\"_blank\"> This is a link </a>\n",
    "```\n",
    "**href** is the hytertext reference. Simply put, the location to go when clicked. It can be a new webpage or a section in the current webpage.\n",
    "\n",
    "**target** is a placeholder to tell where the webpage has to be opened.\n",
    "* ``_blank`` is used to open the referenced page in a new tab.\n",
    "* ``_self`` - Opens the linked document in the same window/tab as it was clicked (this is default)\n",
    "* ``_parent`` - Opens the linked document in the parent frame\n",
    "* ``_top`` - Opens the linked document in the full body of the window\n",
    "* ``framename`` - Opens the linked document in a named frame\n"
   ]
  },
  {
   "cell_type": "markdown",
   "metadata": {
    "slideshow": {
     "slide_type": "slide"
    }
   },
   "source": [
    "### Ordered List\n",
    "\n",
    "#### ``<ul> </ul>``\n",
    "Tag for **unordered** lists or **bullet** lists. You can change the bulltes.\n",
    "```HTML\n",
    "<ul>\n",
    "    <li> List Item 1 </li> <!-- List item -->\n",
    "    <li> List Item 2 </li>\n",
    "    .........\n",
    "    <li> List Item n </li>\n",
    "</ul>\n",
    "```\n",
    "\n",
    "#### ``<ol> </ol>``\n",
    "Tag for **ordered** lists or **numbered** lists. Numbers are auto-generated.\n",
    "```HTML\n",
    "<ol>\n",
    "    <li> List Item 1 </li>\n",
    "    <li> List Item 2 </li>\n",
    "    .........\n",
    "    <li> List Item n </li>\n",
    "</ol>\n",
    "```"
   ]
  },
  {
   "cell_type": "markdown",
   "metadata": {
    "slideshow": {
     "slide_type": "slide"
    }
   },
   "source": [
    "## References.\n",
    "\n",
    "* Traversy media - Brad Traversy youtube channel\n",
    "* KhanAcademy\n",
    "* w3schools\n",
    "* Complete Reference : https://www.w3schools.com/tags/default.asp"
   ]
  },
  {
   "cell_type": "code",
   "execution_count": null,
   "metadata": {},
   "outputs": [],
   "source": []
  }
 ],
 "metadata": {
  "celltoolbar": "Slideshow",
  "kernelspec": {
   "display_name": "Python 3",
   "language": "python",
   "name": "python3"
  },
  "language_info": {
   "codemirror_mode": {
    "name": "ipython",
    "version": 3
   },
   "file_extension": ".py",
   "mimetype": "text/x-python",
   "name": "python",
   "nbconvert_exporter": "python",
   "pygments_lexer": "ipython3",
   "version": "3.6.6"
  }
 },
 "nbformat": 4,
 "nbformat_minor": 2
}
