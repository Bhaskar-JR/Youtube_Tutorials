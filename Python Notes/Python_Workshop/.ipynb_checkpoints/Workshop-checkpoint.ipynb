{
 "cells": [
  {
   "cell_type": "code",
   "execution_count": 1,
   "metadata": {
    "collapsed": true,
    "slideshow": {
     "slide_type": "skip"
    }
   },
   "outputs": [],
   "source": [
    "from IPython.display import HTML"
   ]
  },
  {
   "cell_type": "markdown",
   "metadata": {
    "slideshow": {
     "slide_type": "slide"
    }
   },
   "source": [
    "# Python Workshop\n",
    "\n",
    "Arun Prasaad Gunasekaran\n",
    "\n",
    "Centre for Atmospherice and Oceanic Sciences,\n",
    "\n",
    "Indian Institute of Science\n",
    "\n",
    "11 August 2015 to 15 August 2015"
   ]
  },
  {
   "cell_type": "markdown",
   "metadata": {
    "slideshow": {
     "slide_type": "slide"
    }
   },
   "source": [
    "# Session 1"
   ]
  },
  {
   "cell_type": "markdown",
   "metadata": {
    "collapsed": true,
    "slideshow": {
     "slide_type": "slide"
    }
   },
   "source": [
    "# Preliminary Settings"
   ]
  },
  {
   "cell_type": "markdown",
   "metadata": {
    "slideshow": {
     "slide_type": "fragment"
    }
   },
   "source": [
    "- Go to Spyder > Tools > Preferences > Ipython Console > Graphics\n",
    "- Select Activate support\n",
    "- Set backend to Qt or Tkinter (Qt)\n",
    "- Got to Advanced Settings\n",
    "- Select Greedy Completer\n",
    "- Press apply and ok.\n",
    "- Go to the ipython console and type \\% matplotlib qt (This is for making plots come as a separate window)\n",
    "- Set the Working Directory in the File Explorer\n",
    "- Copy the path of the Working Directory\n",
    "- type cd (in the ipython console) and paste the path and enter\n",
    "- Keep cursor near any command and press Ctrl+I for documentation."
   ]
  },
  {
   "cell_type": "markdown",
   "metadata": {
    "slideshow": {
     "slide_type": "slide"
    }
   },
   "source": [
    "# A Sample Python Program\n",
    "----\n",
    "\n",
    "```python\n",
    "# This is a single line comment\n",
    "\"\"\"\n",
    "    Program to find the factorial of a number.\n",
    "\tThis is also a docstring or a document string\n",
    "\"\"\"\n",
    "n = input(\"Enter a positive integer\") # To get user input data\n",
    "f = 1                                 # To initialize the fact value\n",
    "if n is 1 or 0:                       # To check if n is 0 or 1\n",
    "    exit                              # To exit the if statement\n",
    "else:                                 # To proceed further\n",
    "    for i in range(2, n+1):           # To start a loop from 2 to n.\n",
    "        f = f*i                       # Also written as f *= i\n",
    "print \"The value of {}! is {}\".format(n, f)\n",
    "```"
   ]
  },
  {
   "cell_type": "markdown",
   "metadata": {
    "slideshow": {
     "slide_type": "subslide"
    }
   },
   "source": [
    "# Comments\n",
    "---\n",
    "\n",
    "Comment - Lines that are ignored when the program is run. Used for excluding codes and for including messages.\n",
    "```python\n",
    "\n",
    "# This is a single line comment\n",
    "# Comment begins with a hash # symbol\n",
    "\n",
    "```\n",
    "Docstrings - Document strings. Multi-line comments. But more useful for including help/direction messages that appear when help utilities are called.\n",
    "```python\n",
    "\"\"\"\n",
    "    This is a Docstring. It starts and ends with \n",
    "    triple \" or triple ' quotes. Mix and match does not work!\n",
    "\"\"\"\n",
    "```"
   ]
  },
  {
   "cell_type": "markdown",
   "metadata": {
    "slideshow": {
     "slide_type": "subslide"
    }
   },
   "source": [
    "# Input Command\n",
    "---\n",
    "\n",
    "Input command - Used for getting input from user to a variable.\n",
    "```python\n",
    "n = input('Enter the value for n') # Dynamic input\n",
    "n = raw_input('Enter the value for n') # Raw input - string by default\n",
    "n = float(raw_input('Enter the value for n')) # Type casted input\n",
    "```\n",
    "* Dynamic input analyses the data and assumes data type automatically.\n",
    "* Raw input takes the data as strings. Ignores assuming data type.\n",
    "* Type casting is used to control data types."
   ]
  },
  {
   "cell_type": "markdown",
   "metadata": {
    "slideshow": {
     "slide_type": "subslide"
    }
   },
   "source": [
    "# Primary Variable Types\n",
    "---\n",
    "\n",
    "These are the standard variables and primary data types.\n",
    "\n",
    "```python\n",
    "\n",
    "i = 1 # Integer. Stores integers\n",
    "r = 5.78 # Floats. Stores numbers with decimal parts.\n",
    "c = 'h' # Characters. Stores single characters\n",
    "s = 'Strings' # Strings. Stores a series of characters\n",
    "l = True/False # Logical. Stores binary values\n",
    "    \n",
    "```\n",
    "\n",
    "Strings and characters use both single and double quotes, but must end accordingly. Use slash to place quotes if needed.\n",
    "\n",
    "```python\n",
    "\n",
    "\"Hello\", 'Hello', 'My name is JD', \"I asked, 'what is for lunch?'\"\n",
    "'I exclaimed, \"This tree is big!\"'\n",
    "\"I used slash \\\" to type a double quote symbol\"\n",
    "\n",
    "```"
   ]
  },
  {
   "cell_type": "markdown",
   "metadata": {
    "slideshow": {
     "slide_type": "subslide"
    }
   },
   "source": [
    "# Primary Variable Types\n",
    "\n",
    "A variable in python can have any data type. It can be modified at any level to have a new data type. This is because variables are actually \"objects\" in python."
   ]
  },
  {
   "cell_type": "code",
   "execution_count": 2,
   "metadata": {
    "collapsed": false,
    "slideshow": {
     "slide_type": "subslide"
    }
   },
   "outputs": [
    {
     "name": "stdout",
     "output_type": "stream",
     "text": [
      "1.5 27808464 <type 'float'>\n",
      "hello 140345065335472 <type 'str'>\n",
      "5 27181336 <type 'int'>\n",
      "True 140345272326352 <type 'bool'>\n",
      "[7, 8.9, 10] 140345073994856 <type 'list'>\n",
      "(5.2, 4, 12) 140345182648912 <type 'tuple'>\n",
      "{'v1': 6, 'v2': 10} 140345065401152 <type 'dict'>\n"
     ]
    }
   ],
   "source": [
    "a = 1.5     # Float/Real\n",
    "print a, id(a), type(a)\n",
    "a = \"hello\" # String/Character\n",
    "print a, id(a), type(a)\n",
    "a = 5       # Integer\n",
    "print a, id(a), type(a)\n",
    "a = True    # Logical\n",
    "print a, id(a), type(a)\n",
    "a = [7, 8.9, 10] # List\n",
    "print a, id(a), type(a)\n",
    "a = (5.2, 4, 12) # Tuple\n",
    "print a, id(a), type(a)\n",
    "a = {'v1': 6, 'v2' : 10} # Dictionary\n",
    "print a, id(a), type(a)"
   ]
  },
  {
   "cell_type": "markdown",
   "metadata": {
    "slideshow": {
     "slide_type": "slide"
    }
   },
   "source": [
    "# Operators\n",
    "---\n",
    "\n",
    "```python\n",
    "a + b                  # Addition\n",
    "a - b                  # Subtraction\n",
    "a * b                  # Multiplication\n",
    "a / b                  # Division\n",
    "a += b # a = a+b       # Increment addition\n",
    "a *= b # -=, /= exists # Increment multiplication\n",
    "a ** b                 # Exponent\n",
    "()                     # Parenthesis\n",
    "a % b                  # Modulo Operation\n",
    "or, and, not           # Logical Operators\n",
    "is, is not             # Identity Operators\n",
    "in, in, not in         # Membership Operators\n",
    "```\n",
    "There are many more! Remember UPEMDAS REL LOG"
   ]
  },
  {
   "cell_type": "markdown",
   "metadata": {
    "slideshow": {
     "slide_type": "subslide"
    }
   },
   "source": [
    "# Lists\n",
    "---\n",
    "\n",
    "__Mutable__, multi-datatype arrays. Can be single levelled or multi-levelled. Enclosed by [].\n",
    "\n",
    "```python\n",
    "x = [1, 3, 5, 7, 8]\n",
    "y = [1.5, 5, 8.94, -5.78]\n",
    "z = [1, 'f', True, [6.45, \"six\"], False ]\n",
    "l = [ 1, 3.5, 'a', \"hello\", ['34', 3.14, [\"three\"], 4], 4.21 ]\n",
    "```\n",
    "\n",
    "They allow lists within lists. Indexing goes from 0."
   ]
  },
  {
   "cell_type": "code",
   "execution_count": 3,
   "metadata": {
    "collapsed": true,
    "slideshow": {
     "slide_type": "skip"
    }
   },
   "outputs": [],
   "source": [
    "x = [1, 3, 5, 7, 8]\n",
    "y = [1.5, 5, 8.94, -5.78]\n",
    "z = [1, 'f', True, [6.45, \"six\"], False ]\n",
    "l = [ 1, 3.5, 'a', \"hello\", ['34', 3.14, [\"three\"], 4], 4.21 ]"
   ]
  },
  {
   "cell_type": "code",
   "execution_count": 5,
   "metadata": {
    "collapsed": false,
    "slideshow": {
     "slide_type": "subslide"
    }
   },
   "outputs": [
    {
     "name": "stdout",
     "output_type": "stream",
     "text": [
      "x =  [1, 3, 5, 7, 8]\n",
      "y =  [1.5, 5, 8.94, -5.78]\n",
      "z =  [1, 'f', True, [6.45, 'six'], False]\n",
      "l =  [1, 3.5, 'a', 'hello', ['34', 3.14, ['three'], 4], 4.21]\n",
      "1\n",
      "8\n",
      "six\n",
      "three\n"
     ]
    }
   ],
   "source": [
    "print \"x = \",x\n",
    "print \"y = \",y\n",
    "print \"z = \",z\n",
    "print \"l = \",l\n",
    "print x[0]\n",
    "print x[4]\n",
    "#print y[4] # This will throw an error: IndexError: list index out of range\n",
    "print z[3][1]\n",
    "print l[4][2][0]"
   ]
  },
  {
   "cell_type": "markdown",
   "metadata": {
    "slideshow": {
     "slide_type": "subslide"
    }
   },
   "source": [
    "# Tuples\n",
    "----\n",
    "\n",
    "__Immutable__, multi-datatype arrays. Can be single levelled or multi-levelled. Enclosed by ().\n",
    "\n",
    "```python\n",
    "x = (1, 3, 5, 7, 8)\n",
    "y = (1.5, 5, 8.94, -5.78)\n",
    "z = (1, 'f', True, (6.45, \"six\"), False )\n",
    "l = ( 1, 3.5, 'a', \"hello\", ('34', 3.14, (\"three\"), 4), 4.21 )\n",
    "```\n",
    "\n",
    "They allow tuples within tuples. Indexing goes from 0."
   ]
  },
  {
   "cell_type": "code",
   "execution_count": 7,
   "metadata": {
    "collapsed": true,
    "slideshow": {
     "slide_type": "skip"
    }
   },
   "outputs": [],
   "source": [
    "x = (1, 3, 5, 7, 8)\n",
    "y = (1.5, 5, 8.94, -5.78)\n",
    "z = (1, 'f', True, (6.45, \"six\"), False )\n",
    "l = ( 1, 3.5, 'a', \"hello\", ('34', 3.14, (\"three\"), 4), 4.21 )"
   ]
  },
  {
   "cell_type": "code",
   "execution_count": 10,
   "metadata": {
    "collapsed": false,
    "slideshow": {
     "slide_type": "subslide"
    }
   },
   "outputs": [
    {
     "name": "stdout",
     "output_type": "stream",
     "text": [
      "x =  (1, 3, 5, 7, 8)\n",
      "y =  (1.5, 5, 8.94, -5.78)\n",
      "z =  (1, 'f', True, (6.45, 'six'), False)\n",
      "l =  (1, 3.5, 'a', 'hello', ('34', 3.14, 'three', 4), 4.21)\n",
      "1\n",
      "8\n",
      "six\n",
      "three\n"
     ]
    }
   ],
   "source": [
    "print \"x = \",x\n",
    "print \"y = \",y\n",
    "print \"z = \",z\n",
    "print \"l = \",l\n",
    "print x[0]\n",
    "print x[4]\n",
    "#print y[4] # This will throw an error: IndexError: tuple index out of range\n",
    "print z[3][1]\n",
    "print l[4][2]"
   ]
  },
  {
   "cell_type": "markdown",
   "metadata": {
    "slideshow": {
     "slide_type": "subslide"
    }
   },
   "source": [
    "# Mutation"
   ]
  },
  {
   "cell_type": "markdown",
   "metadata": {
    "slideshow": {
     "slide_type": "fragment"
    }
   },
   "source": [
    "Since variables are objects in python, sometimes, multiple variables point to the \n",
    "same memory location. Sometimes, certain memory modifications done to one \n",
    "variable replicates in others (Mutable). Sometimes they do not (Immutable)."
   ]
  },
  {
   "cell_type": "code",
   "execution_count": 15,
   "metadata": {
    "collapsed": false,
    "slideshow": {
     "slide_type": "fragment"
    }
   },
   "outputs": [
    {
     "name": "stdout",
     "output_type": "stream",
     "text": [
      "[4.5, 6.7, 1] [4.5, 6.7, 1]\n",
      "(4.5, 6.7) (4.5, 6.7)\n"
     ]
    }
   ],
   "source": [
    "x = [4.5, 6.7]\n",
    "y = x\n",
    "x.append(1)\n",
    "print x, y\n",
    "\n",
    "x = (4.5, 6.7)\n",
    "y = x\n",
    "# x.append(1) # Produces an error: tuple' object has no attribute 'append'\n",
    "print x, y"
   ]
  },
  {
   "cell_type": "markdown",
   "metadata": {
    "slideshow": {
     "slide_type": "subslide"
    }
   },
   "source": [
    "## Exception\n",
    "---\n",
    "\n",
    "However, switching data and mutation do not cause any issue."
   ]
  },
  {
   "cell_type": "code",
   "execution_count": 14,
   "metadata": {
    "collapsed": false,
    "slideshow": {
     "slide_type": "fragment"
    }
   },
   "outputs": [
    {
     "name": "stdout",
     "output_type": "stream",
     "text": [
      "[4.5, 6.7] [7.8, 9.6]\n",
      "(4.5, 6.7) (7.8, 9.6)\n"
     ]
    }
   ],
   "source": [
    "x = [4.5, 6.7]\n",
    "y = x\n",
    "y = [7.8, 9.6]\n",
    "print x, y\n",
    "\n",
    "x = (4.5, 6.7)\n",
    "y = x\n",
    "y = (7.8, 9.6)\n",
    "print x, y"
   ]
  },
  {
   "cell_type": "markdown",
   "metadata": {
    "slideshow": {
     "slide_type": "fragment"
    }
   },
   "source": [
    "Still, there is a problem with list and tuples. They are heterogeneous data arrays. We need homogeneous data arrays for scientific calculations. That is where __numpy arrays__ come in handy."
   ]
  },
  {
   "cell_type": "markdown",
   "metadata": {
    "slideshow": {
     "slide_type": "slide"
    }
   },
   "source": [
    "# Dictionary\n",
    "---\n",
    "\n",
    "A composite collection of different primary and derived data types. __Imagine a wallet/bag having several items as an example__. Has __keys__ and corresponding __values__. Keys are the names/identifiers while values are the data. (Lists, tuples, arrays, integers, floats etc.,). Used for consolidating data into files."
   ]
  },
  {
   "cell_type": "code",
   "execution_count": 16,
   "metadata": {
    "collapsed": false,
    "slideshow": {
     "slide_type": "fragment"
    }
   },
   "outputs": [
    {
     "name": "stdout",
     "output_type": "stream",
     "text": [
      "{'v1': 6, 'v2': 10, 'lst': [5.8, 'hello']}\n",
      "6\n",
      "[5.8, 'hello']\n",
      "hello\n"
     ]
    }
   ],
   "source": [
    "a = {'v1':6, 'v2':10, 'lst': \\\n",
    "    [5.8, \"hello\"]}\n",
    "print a\n",
    "print a['v1']\n",
    "print a['lst']\n",
    "print a['lst'][1]"
   ]
  },
  {
   "cell_type": "markdown",
   "metadata": {
    "slideshow": {
     "slide_type": "subslide"
    }
   },
   "source": [
    "# Type Casting\n",
    "---\n",
    "Used for data conversion. Also used to avoid mutation. Restriction of data entry is also possible."
   ]
  },
  {
   "cell_type": "code",
   "execution_count": 17,
   "metadata": {
    "collapsed": false,
    "slideshow": {
     "slide_type": "fragment"
    }
   },
   "outputs": [
    {
     "name": "stdout",
     "output_type": "stream",
     "text": [
      "5 <type 'int'>\n",
      "5.0 <type 'float'>\n",
      "\u0005 <type 'str'>\n",
      "5 <type 'str'>\n",
      "True <type 'bool'>\n",
      "[5, 7.9, 3.4] <type 'list'>\n",
      "(5, 7.9, 3.4) <type 'tuple'>\n",
      "[ 5.   7.9  3.4] <type 'numpy.ndarray'>\n"
     ]
    }
   ],
   "source": [
    "import numpy as np\n",
    "a = 5\n",
    "b = [5, 7.9, 3.4]\n",
    "print int(a), type(int(a))           \n",
    "print float(a), type(float(a))       \n",
    "print chr(a), type(chr(a))          \n",
    "print str(a), type(str(a))          \n",
    "print bool(a), type(bool(a))        \n",
    "print list(b), type(list(b))         \n",
    "print tuple(b), type(tuple(b))       \n",
    "print np.array(b), type(np.array(b))"
   ]
  },
  {
   "cell_type": "markdown",
   "metadata": {
    "slideshow": {
     "slide_type": "subslide"
    }
   },
   "source": [
    "# Numpy Arrays\n",
    "---\n",
    "\n",
    "Comes from a module numpy. Homogeneous data type array. Automatically assumes data type. But can be manually set too. Needs numpy module. Inputs can be lists or tuples."
   ]
  },
  {
   "cell_type": "code",
   "execution_count": 18,
   "metadata": {
    "collapsed": false,
    "slideshow": {
     "slide_type": "fragment"
    }
   },
   "outputs": [
    {
     "name": "stdout",
     "output_type": "stream",
     "text": [
      "<type 'list'>\n",
      "<type 'tuple'>\n",
      "<type 'numpy.ndarray'>\n",
      "<type 'numpy.ndarray'>\n",
      "int64\n",
      "float64\n"
     ]
    }
   ],
   "source": [
    "import numpy as np\n",
    "l = [5, 7, 9]\n",
    "t = (5, 7, 9.7)\n",
    "a = np.array(l)\n",
    "b = np.array(t)\n",
    "print type(l)\n",
    "print type(t)\n",
    "print type(a)\n",
    "print type(b)\n",
    "print np.dtype(a[2])\n",
    "print np.dtype(b[1])"
   ]
  },
  {
   "cell_type": "markdown",
   "metadata": {
    "slideshow": {
     "slide_type": "fragment"
    }
   },
   "source": [
    "As you see, the data types are allocated automatically. Use __dtype__ inside __np.array__ to set the data type manually.\n",
    "```python\n",
    "a = np.array(l, dtype=np.float32)\n",
    "```"
   ]
  },
  {
   "cell_type": "markdown",
   "metadata": {
    "slideshow": {
     "slide_type": "slide"
    }
   },
   "source": [
    "# For and While loops\n",
    "---"
   ]
  },
  {
   "cell_type": "code",
   "execution_count": 21,
   "metadata": {
    "collapsed": false,
    "slideshow": {
     "slide_type": "fragment"
    }
   },
   "outputs": [
    {
     "name": "stdout",
     "output_type": "stream",
     "text": [
      "0\n",
      "2\n",
      "4\n",
      "6\n",
      "8\n",
      "10\n",
      "Val =  [1 2 3]\n",
      "1\n",
      "2\n",
      "3\n",
      "Val =  [4 5 6]\n",
      "4\n",
      "5\n",
      "6\n",
      "Val =  [7 8 9]\n",
      "7\n",
      "8\n",
      "9\n",
      "0\n",
      "1\n",
      "2\n",
      "3\n",
      "4\n",
      "5\n",
      "6\n",
      "7\n",
      "8\n",
      "9\n",
      "10\n"
     ]
    }
   ],
   "source": [
    "for i in range(0, 11, 2):\n",
    "\tprint i\n",
    "# Note the indent! Break in indent means end out statements within loop.\n",
    "# range function delivers values from 0 to 10 in steps of 2\n",
    "# i takes one value in each iteration\n",
    "# Nested loops (one within the other is possible) as shown below\n",
    "\n",
    "vp = np.array([[1, 2, 3], [4, 5, 6], [7, 8, 9]])\n",
    "    \n",
    "for val in vp:\n",
    "    print \"Val = \", val\n",
    "    for num in val:\n",
    "        print num\n",
    "        # continue # to go to next iteration\n",
    "        # break # to break the loop\n",
    "\n",
    "i = 0 # Initialization has to be done for while loop\n",
    "while i in range(0, 11):\n",
    "    print i\n",
    "    i += 1 # If not, then the loop will run infinitely"
   ]
  },
  {
   "cell_type": "markdown",
   "metadata": {
    "slideshow": {
     "slide_type": "subslide"
    }
   },
   "source": [
    "# If Clause\n",
    "---"
   ]
  },
  {
   "cell_type": "code",
   "execution_count": 28,
   "metadata": {
    "collapsed": false,
    "slideshow": {
     "slide_type": "fragment"
    }
   },
   "outputs": [
    {
     "name": "stdout",
     "output_type": "stream",
     "text": [
      "Enter a value for n:6\n",
      "Execution at else\n",
      "The value of 6! = 720\n"
     ]
    }
   ],
   "source": [
    "f = 1\n",
    "n = input(\"Enter a value for n:\")\n",
    "if isinstance(n, int): # Checks whether the value is integer or not\n",
    "    if n is 1 or 0:\n",
    "        print \"Execution at if\"\n",
    "        print \"The value of {}! = {}\".format(n, f)\n",
    "        exit\n",
    "    elif n<0:\n",
    "        print \"Execution at elif\"\n",
    "        print \"n is negative!\"\n",
    "    else:\n",
    "        print \"Execution at else\"\n",
    "        for i in range(2, n+1):\n",
    "            f *= i\n",
    "        print \"The value of {}! = {}\".format(n, f)\n",
    "else:\n",
    "    print \"Factorial does not exist\""
   ]
  },
  {
   "cell_type": "markdown",
   "metadata": {
    "slideshow": {
     "slide_type": "subslide"
    }
   },
   "source": [
    "# Functions\n",
    "---\n",
    "Functions are data type independent. The data type issues come only when the code has a mis-match.\n",
    "If you have a code that is data type independent, then functions can work very easily."
   ]
  },
  {
   "cell_type": "code",
   "execution_count": 26,
   "metadata": {
    "collapsed": false,
    "slideshow": {
     "slide_type": "fragment"
    }
   },
   "outputs": [
    {
     "name": "stdout",
     "output_type": "stream",
     "text": [
      "Enter a value for n:6\n",
      "Execution at else\n",
      "The value of 6! = 720\n",
      "720\n"
     ]
    }
   ],
   "source": [
    "def fact(n):\n",
    "    f = 1 # This is a local variable. Accessible only inside the function\n",
    "    if isinstance(n, int): # Checks whether the value is integer or not\n",
    "        if n is 1 or 0:\n",
    "            print \"Execution at if\"\n",
    "            print \"The value of {}! = {}\".format(n, f)\n",
    "            exit\n",
    "        elif n<0:\n",
    "            f = 0\n",
    "            print \"Execution at elif\"\n",
    "            print \"n is negative!\"\n",
    "        else:\n",
    "            print \"Execution at else\"\n",
    "            for i in range(2, n+1):\n",
    "                f *= i\n",
    "            print \"The value of {}! = {}\".format(n, f)\n",
    "    else:\n",
    "        f = 0\n",
    "        print \"Factorial does not exist\"\n",
    "    return f\n",
    "n = input(\"Enter a value for n:\")\n",
    "f = fact(n)\n",
    "print f"
   ]
  },
  {
   "cell_type": "markdown",
   "metadata": {
    "slideshow": {
     "slide_type": "subslide"
    }
   },
   "source": [
    "# Slicing\n",
    "---\n",
    "\n",
    "Convenient and Efficient way for handling arrays."
   ]
  },
  {
   "cell_type": "code",
   "execution_count": 27,
   "metadata": {
    "collapsed": false,
    "slideshow": {
     "slide_type": "fragment"
    }
   },
   "outputs": [
    {
     "name": "stdout",
     "output_type": "stream",
     "text": [
      "[0, 1, 2, 3, 4, 5, 6, 7, 8, 9, 10]\n",
      "7\n",
      "[0, 1, 2, 3, 4, 5, 6, 7, 8, 9, 10]\n",
      "[6, 7, 8, 9]\n",
      "[0, 1, 2, 3]\n",
      "[5, 6, 7, 8, 9, 10]\n",
      "[0, 1, 2, 3, 4, 5, 6]\n"
     ]
    }
   ],
   "source": [
    "a = [0, 1, 2, 3, 4, 5, 6, 7, 8, 9, 10]\n",
    "print a           # Prints all entries\n",
    "print a[7]        # Prints only the 7th entry\n",
    "print a[:]        # Prints all entries\n",
    "print a[6:10]     # Prints 6th to 9th entry\n",
    "print a[0:4]      # Prints 0th to 3rd entry\n",
    "print a[5:]       # Prints 5th entry till last\n",
    "print a[:7]       # Prints all entries from start till 7th entry"
   ]
  },
  {
   "cell_type": "markdown",
   "metadata": {
    "slideshow": {
     "slide_type": "fragment"
    }
   },
   "source": [
    "__Note__ : Negative Entries also exist! You can check it out!"
   ]
  },
  {
   "cell_type": "markdown",
   "metadata": {
    "slideshow": {
     "slide_type": "subslide"
    }
   },
   "source": [
    "# Modules\n",
    "---"
   ]
  },
  {
   "cell_type": "markdown",
   "metadata": {
    "slideshow": {
     "slide_type": "fragment"
    }
   },
   "source": [
    "Collection of files having functions, objects and classes. Each Module has it's own set of functions.\n",
    "eg: Numpy, scipy, matplotlib, os, netcdf4 etc.,"
   ]
  },
  {
   "cell_type": "markdown",
   "metadata": {
    "slideshow": {
     "slide_type": "fragment"
    }
   },
   "source": [
    "## Including them in the files/functions\n",
    "---\n",
    "```python\n",
    "import numpy\n",
    "# This imports the entire module\n",
    "from numpy import *\n",
    "# Same as above\n",
    "from matplotlib import pyplot\n",
    "# Used for including specific functions/objects/classes\n",
    "import numpy as np\n",
    "# This imports the module with alternate name for convenience\n",
    "import matplotlib.pyplot as plt\n",
    "# This imports specific function with an alternate name\n",
    "from matplotlib import pyplot as plt\n",
    "# Same as above\n",
    "```"
   ]
  },
  {
   "cell_type": "markdown",
   "metadata": {
    "slideshow": {
     "slide_type": "slide"
    }
   },
   "source": [
    "# Exercises"
   ]
  },
  {
   "cell_type": "markdown",
   "metadata": {
    "slideshow": {
     "slide_type": "subslide"
    }
   },
   "source": [
    "## Problem 1 - Easy\n",
    "---\n",
    "\n",
    "Find the first 12 Fibonacci numbers.In a Fibonacci series/sequence, if $F_n$ is the $n^{th}$ term of the series, (provided $n \\ge 2$) then it can be given in terms of the previous 2 terms, $F_{n-1}$ and $F_{n-2}$ by the recurrence relation,\n",
    "$$ F_n = F_{n-1} + F_{n-2}$$\n",
    "Find all the values till 12th term ($F_{12}$), save them and print them using loops. Take $F_0$ = 0 and $F_1$ = 1. __Use numpy arrays. Set the data type to be int8. Do you notice anything strange? Set the data type to be int16 and repeat. Do you notice anything strange?__ If yes/no, can you guess what could be the reason?"
   ]
  },
  {
   "cell_type": "markdown",
   "metadata": {
    "slideshow": {
     "slide_type": "subslide"
    }
   },
   "source": [
    "## Problem 2 - Hard\n",
    "---\n",
    "\n",
    "The table shows the plot of relative humidity and altitude. Assume surface temperature $T_S = 30^\\circ\\ C$ and $P_S = 10^5\\ Pa$. Use SI units in calculation.\n",
    "\n",
    "Altitude Vs RH Measurement\n",
    "\n",
    "\n"
   ]
  },
  {
   "cell_type": "code",
   "execution_count": 40,
   "metadata": {
    "collapsed": true,
    "slideshow": {
     "slide_type": "skip"
    }
   },
   "outputs": [],
   "source": [
    "Z = [0.00, 0.10, 0.30, 0.50, 1.00, 2.00, 3.00, 4.00, 5.00, 6.00, 7.00, 8.00, 9.00, 10.0 ]\n",
    "RH = [60., 70., 80.0, 75.0, 60.0, 50.0, 80.0, 90.0, 60.0, 40.0, 20.0, 5.00, 2.00, 1.00]"
   ]
  },
  {
   "cell_type": "code",
   "execution_count": 41,
   "metadata": {
    "collapsed": false,
    "slideshow": {
     "slide_type": "-"
    }
   },
   "outputs": [
    {
     "name": "stdout",
     "output_type": "stream",
     "text": [
      "Altitude in km :          [0.0, 0.1, 0.3, 0.5, 1.0, 2.0, 3.0, 4.0, 5.0, 6.0, 7.0, 8.0, 9.0, 10.0]\n",
      "Relative Humidity in % :  [60.0, 70.0, 80.0, 75.0, 60.0, 50.0, 80.0, 90.0, 60.0, 40.0, 20.0, 5.0, 2.0, 1.0]\n"
     ]
    }
   ],
   "source": [
    "print \"Altitude in km :         \", Z\n",
    "print \"Relative Humidity in % : \", RH"
   ]
  },
  {
   "cell_type": "markdown",
   "metadata": {
    "slideshow": {
     "slide_type": "fragment"
    }
   },
   "source": [
    "* Calculate $e_s(Z)$ which is given by $e_s = A\\exp{\\left[-\\frac{B}{T}\\right]}$. Where, $A = 2.53\\times10^{11}\\ Pa$ and $B = 5420\\ K$\n",
    "* Calculate e(z) which is given by $e = \\frac{RH\\times\\ e_s}{100}$ . (Use % values of RH directly)\n",
    "* Calculate T(z) which is given by $T = T_S - \\frac{gZ}{C_p}$, where $g = 9.806\\ m/s^2$ and $C_p = 1005\\ J/kgK$\n",
    "* Calculate P(z) which is given by $P = P_s\\exp{\\frac{-gZ}{RT}}$, where $R = 287\\ J/kgK$\n",
    "* Calculate $\\rho$(z) which is given by $\\rho = \\frac{P}{RT}$\n",
    "* Calculate q(z) which is given by $q = 0.622\\left[\\ \\frac{e}{P} \\right]$\n",
    "* Calculate W(z), given by $W = q\\times\\ \\rho$\n",
    "* Calculate h(z), given by $h = Lq + C_pT$. Where $L = 2.5006\\times\\ 10^6\\ J/kg$. (Use T in K here)\n",
    "* Calculate MSE(z), given by $MSE = h + gZ$\n",
    "* Calculate Velocity v(z), which is given by the relation, $v = v_0\\left(\\exp\\left[\\frac{Z}{Z_s}\\right] - 1\\right)$, where, $Z_s = \\frac{RT_s}{g}$ (Where $T_s$ is in Kelvin) and $v_0 = 100\\ m/s$\n",
    "* Calculate the total energy, $E = MSE + 0.5v^2$"
   ]
  },
  {
   "cell_type": "markdown",
   "metadata": {
    "slideshow": {
     "slide_type": "slide"
    }
   },
   "source": [
    "# Next Session\n",
    "---\n"
   ]
  },
  {
   "cell_type": "markdown",
   "metadata": {
    "slideshow": {
     "slide_type": "fragment"
    }
   },
   "source": [
    "* Extracting Data from text/excel files\n",
    "* Saving in matrix files (.mat)\n",
    "* 1-D Plotting\n",
    "* Advanced Mathematical Operations\n",
    "* Interactive 2-D Plotting\n",
    "* Some algorithms\n",
    "* Plot Enhancements"
   ]
  },
  {
   "cell_type": "markdown",
   "metadata": {
    "slideshow": {
     "slide_type": "slide"
    }
   },
   "source": [
    "# Session 2"
   ]
  },
  {
   "cell_type": "code",
   "execution_count": null,
   "metadata": {
    "collapsed": true,
    "slideshow": {
     "slide_type": "-"
    }
   },
   "outputs": [],
   "source": []
  }
 ],
 "metadata": {
  "celltoolbar": "Slideshow",
  "kernelspec": {
   "display_name": "Python 2",
   "language": "python",
   "name": "python2"
  }
 },
 "nbformat": 4,
 "nbformat_minor": 0
}
