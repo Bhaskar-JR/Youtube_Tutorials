{
 "cells": [
  {
   "cell_type": "code",
   "execution_count": 1,
   "metadata": {
    "collapsed": true
   },
   "outputs": [],
   "source": [
    "import numpy as np\n",
    "from scipy import interpolate as inter"
   ]
  },
  {
   "cell_type": "code",
   "execution_count": 14,
   "metadata": {
    "collapsed": true
   },
   "outputs": [],
   "source": [
    "# Step 0: Import interpolate option\n",
    "from scipy import interpolate as inter\n",
    "\n",
    "# Step 1: Set a value to be regridded along with mesh\n",
    "\n",
    "x = np.linspace(-4, 4, 9)\n",
    "y = np.linspace(-4, 4, 9)\n",
    "x1, y1 = np.meshgrid(x, y)\n",
    "\n",
    "z1 = x1**2 + y1**2\n",
    "\n",
    "# Step 2: Create a new range for the regridding along with mesh\n",
    "\n",
    "xi = np.linspace(-4, 4, 17)\n",
    "yi = np.linspace(-4, 4, 17)\n",
    "x2, y2, = np.meshgrid(xi, yi)"
   ]
  },
  {
   "cell_type": "code",
   "execution_count": 15,
   "metadata": {
    "collapsed": false
   },
   "outputs": [],
   "source": [
    "# Step 3: Create a temporary variable\n",
    "tck = inter.bisplrep(x1, y1, z1, s=1)  \n",
    "# Bivariate B-spline representation of surface\n",
    "# u is a smoothing factor\n",
    "\n",
    "# Step 4: Interpolate the values using the variable above\n",
    "z2 = inter.bisplev(xi, yi, tck)"
   ]
  },
  {
   "cell_type": "code",
   "execution_count": 16,
   "metadata": {
    "collapsed": false
   },
   "outputs": [],
   "source": [
    "import matplotlib.pyplot as plt\n",
    "plt.subplot(211)\n",
    "plt.contourf(x1, y1, z1)\n",
    "plt.title('z without regridding')\n",
    "plt.subplot(212)\n",
    "plt.contourf(x2, y2, z2)\n",
    "plt.title('z after regridding')\n",
    "plt.show()"
   ]
  },
  {
   "cell_type": "code",
   "execution_count": null,
   "metadata": {
    "collapsed": true
   },
   "outputs": [],
   "source": []
  }
 ],
 "metadata": {
  "kernelspec": {
   "display_name": "Python 2",
   "language": "python",
   "name": "python2"
  },
  "language_info": {
   "codemirror_mode": {
    "name": "ipython",
    "version": 2
   },
   "file_extension": ".py",
   "mimetype": "text/x-python",
   "name": "python",
   "nbconvert_exporter": "python",
   "pygments_lexer": "ipython2",
   "version": "2.7.10"
  }
 },
 "nbformat": 4,
 "nbformat_minor": 0
}
