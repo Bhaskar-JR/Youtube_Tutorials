{
 "cells": [
  {
   "cell_type": "code",
   "execution_count": 1,
   "metadata": {
    "collapsed": true,
    "slideshow": {
     "slide_type": "skip"
    }
   },
   "outputs": [],
   "source": [
    "from IPython.display import HTML\n",
    "from IPython.display import Image"
   ]
  },
  {
   "cell_type": "markdown",
   "metadata": {
    "slideshow": {
     "slide_type": "slide"
    }
   },
   "source": [
    "# Python Workshop\n",
    "---\n",
    "\n",
    "Arun Prasaad Gunasekaran\n",
    "\n",
    "Assistance from : Aditya Nalam, Arijit Chanda and ChetanKumar Jalihal\n",
    "\n",
    "Centre for Atmospheric and Oceanic Sciences\n",
    "\n",
    "Indian Institute of Science\n",
    "\n",
    "17 August 2015 to 21 August 2015\n",
    "\n",
    "_**Special thanks to Senior Joy for his IPython notes! Some of the note's contents are used here.**_"
   ]
  },
  {
   "cell_type": "markdown",
   "metadata": {
    "slideshow": {
     "slide_type": "slide"
    }
   },
   "source": [
    "# Session 4"
   ]
  },
  {
   "cell_type": "markdown",
   "metadata": {
    "slideshow": {
     "slide_type": "fragment"
    }
   },
   "source": [
    "# Overview\n",
    "---\n",
    "\n",
    "* Intro to IPython Notebook\n",
    "* Presentation in IPython\n",
    "* Documentation in IPython Notebook\n",
    "* f2py demo\n",
    "* Collection of Links\n",
    "* Intro to Wakari\n",
    "* Takeaway notes\n",
    "\n",
    "On an interesting note, These sessions are video recorded!"
   ]
  },
  {
   "cell_type": "markdown",
   "metadata": {
    "slideshow": {
     "slide_type": "slide"
    }
   },
   "source": [
    "# Introduction\n",
    "---\n",
    "\n",
    "You can write short codes and experiment/document it in the notebook."
   ]
  },
  {
   "cell_type": "code",
   "execution_count": 2,
   "metadata": {
    "collapsed": false,
    "slideshow": {
     "slide_type": "fragment"
    }
   },
   "outputs": [
    {
     "name": "stdout",
     "output_type": "stream",
     "text": [
      "Hello!\n"
     ]
    }
   ],
   "source": [
    "print \"Hello!\""
   ]
  },
  {
   "cell_type": "markdown",
   "metadata": {
    "slideshow": {
     "slide_type": "fragment"
    }
   },
   "source": [
    "Or you can make text content possible using Markdown! This cell is mark down!"
   ]
  },
  {
   "cell_type": "markdown",
   "metadata": {
    "slideshow": {
     "slide_type": "fragment"
    }
   },
   "source": [
    "All the cells have a Markdown/Code/Header option/Nbconvert option on the top, below help button"
   ]
  },
  {
   "cell_type": "markdown",
   "metadata": {
    "slideshow": {
     "slide_type": "fragment"
    }
   },
   "source": [
    "Variables you create/run in the notebook are active till the notebook is closed."
   ]
  },
  {
   "cell_type": "markdown",
   "metadata": {
    "slideshow": {
     "slide_type": "subslide"
    }
   },
   "source": [
    "## How to open?\n",
    "---\n",
    "* Go to terminal,\n",
    "* Type ipython notebook\n",
    "\n",
    "Your browser will open and you will have a Home window.\n",
    "\n",
    "* On the top right side, look for new > notebook > python 2(3)\n",
    "* Click, and a new tab opens up.\n",
    "* This is your notebook."
   ]
  },
  {
   "cell_type": "markdown",
   "metadata": {
    "slideshow": {
     "slide_type": "subslide"
    }
   },
   "source": [
    "## How to type code?\n",
    "---\n",
    "\n",
    "* Open a cell.\n",
    "* Type your commands (a group preferably)\n",
    "* Type CTRL + Enter to execute the cell"
   ]
  },
  {
   "cell_type": "code",
   "execution_count": 2,
   "metadata": {
    "collapsed": false,
    "slideshow": {
     "slide_type": "fragment"
    }
   },
   "outputs": [
    {
     "name": "stdout",
     "output_type": "stream",
     "text": [
      "This is a code cell > Where codes are written and executed\n"
     ]
    }
   ],
   "source": [
    "print \"This is a code cell > Where codes are written and executed\""
   ]
  },
  {
   "cell_type": "markdown",
   "metadata": {
    "slideshow": {
     "slide_type": "fragment"
    }
   },
   "source": [
    "This is a markup cell where plain writing and formatted writing is possible."
   ]
  },
  {
   "cell_type": "markdown",
   "metadata": {
    "slideshow": {
     "slide_type": "fragment"
    }
   },
   "source": [
    "This is very good for documentation!"
   ]
  },
  {
   "cell_type": "markdown",
   "metadata": {
    "slideshow": {
     "slide_type": "subslide"
    }
   },
   "source": [
    "# Headings\n",
    "---\n",
    "\n",
    "For example\n",
    "    # Heading\n",
    "becomes\n",
    "#Heading"
   ]
  },
  {
   "cell_type": "markdown",
   "metadata": {
    "slideshow": {
     "slide_type": "fragment"
    }
   },
   "source": [
    "    ## Small Heading\n",
    "gives\n",
    "##Small Heading\n",
    "\n",
    "    ### much smaller\n",
    "gives\n",
    "### much smaller\n",
    "---"
   ]
  },
  {
   "cell_type": "markdown",
   "metadata": {
    "slideshow": {
     "slide_type": "fragment"
    }
   },
   "source": [
    "To make underlines, use 3 or 4 minus signs in a new line. For instance\n",
    "    ---\n",
    "becomes\n",
    "\n",
    "----\n",
    "\n",
    "    Use tabs to make syntax writeups like this one"
   ]
  },
  {
   "cell_type": "markdown",
   "metadata": {
    "slideshow": {
     "slide_type": "fragment"
    }
   },
   "source": [
    "Wrap lines with underscores or asterix symbols for italics.\n",
    "\n",
    "    _This is italicized_ or even *this*\n",
    "    \n",
    "_This is italicized_ or even *this*\n",
    "\n",
    "Wrap with two of them to make them bold.\n",
    "\n",
    "    __bold__ like **this**\n",
    "    \n",
    "__bold__ like **this**\n",
    "\n",
    "Mix them both to make sentences bold and italics\n",
    "\n",
    "    __*bold and italics*__\n",
    "    \n",
    "__*bold and italics*__"
   ]
  },
  {
   "cell_type": "markdown",
   "metadata": {
    "slideshow": {
     "slide_type": "subslide"
    }
   },
   "source": [
    "#Lists\n",
    "----\n",
    "\n",
    "You can make lists by simply adding a * on the first line. For numbered lists, use numbers!\n",
    "\n",
    "    * item 1\n",
    "    * item 2\n",
    "    \n",
    "* item 1\n",
    "* item 2\n",
    "\n",
    "        2. item 1\n",
    "          * subitem\n",
    "            * subsubitem\n",
    "        2. item 2\n",
    "        4. item 3\n",
    "    \n",
    "    \n",
    "1. item 1\n",
    "  * subitem\n",
    "    * subsubitem\n",
    "2. item 2\n",
    "4. item 3"
   ]
  },
  {
   "cell_type": "markdown",
   "metadata": {
    "slideshow": {
     "slide_type": "subslide"
    }
   },
   "source": [
    "# Syntax Highlights for program snippets in Documentation\n",
    "---\n",
    "\n",
    "\n",
    "To write python or other language codes, use the following notation\n",
    "\n",
    "    ```(language name)\n",
    "        codes\n",
    "    ```\n"
   ]
  },
  {
   "cell_type": "markdown",
   "metadata": {
    "slideshow": {
     "slide_type": "fragment"
    }
   },
   "source": [
    "eg:\n",
    "\n",
    "    ```python\n",
    "     for i in range(0, n):\n",
    "         b += i\n",
    "    ```\n",
    "\n",
    "becomes\n",
    "\n",
    "```python\n",
    "for i in range(0, n):\n",
    "    b += i\n",
    "```\n",
    "\n",
    "or\n",
    "    ```fortran\n",
    "    subroutine foo()\n",
    "        print *, 'test'\n",
    "    end subroutine\n",
    "    ```\n",
    "    \n",
    "```fortran\n",
    "    subroutine foo()\n",
    "        print *, 'test'\n",
    "    end subroutine\n",
    "```\n",
    "\n",
    "or\n",
    "    ```c\n",
    "    void main() {\n",
    "        printf(\"Hello World\");\n",
    "    }\n",
    "    ```\n",
    "\n",
    "```c\n",
    "    void main() {\n",
    "        printf(\"Hello World\");\n",
    "    }\n",
    "```\n",
    "\n",
    "Not specifying the language will not give syntax highlighting\n",
    "    ```\n",
    "    void main() {\n",
    "        printf(\"Hello World\");\n",
    "    }\n",
    "    ```\n",
    "\n",
    "```\n",
    "    void main() {\n",
    "        printf(\"Hello World\");\n",
    "    }\n",
    "```"
   ]
  },
  {
   "cell_type": "markdown",
   "metadata": {
    "slideshow": {
     "slide_type": "subslide"
    }
   },
   "source": [
    "# Quotes, LaTeX symbols and Links\n",
    "---\n"
   ]
  },
  {
   "cell_type": "markdown",
   "metadata": {
    "slideshow": {
     "slide_type": "fragment"
    }
   },
   "source": [
    "You can add quotes by using the greater than symbol:\n",
    "    > this is a quote\n",
    "    \n",
    "    while this is not\n",
    "    \n",
    "> this is a quote\n",
    "\n",
    "while this is not"
   ]
  },
  {
   "cell_type": "markdown",
   "metadata": {
    "slideshow": {
     "slide_type": "fragment"
    }
   },
   "source": [
    "Adding a link is really easy as well!\n",
    "\n",
    "    [Title](http://this.is.a.link.com)\n",
    "    \n",
    "[Title](http://this.is.a.link.com)\n",
    "\n",
    "or for a sensible example\n",
    "    \n",
    "    [Google](http://google.com)\n",
    "    \n",
    "[Google](http://google.com)"
   ]
  },
  {
   "cell_type": "markdown",
   "metadata": {
    "slideshow": {
     "slide_type": "fragment"
    }
   },
   "source": [
    "You can add pictures, youtube videos etc.,\n",
    "\n",
    "Use these lines in one of the cells to enable access images\n",
    "```python\n",
    "from IPython.display import HTML\n",
    "from IPython.display import Image\n",
    "```"
   ]
  },
  {
   "cell_type": "markdown",
   "metadata": {
    "slideshow": {
     "slide_type": "fragment"
    }
   },
   "source": [
    "# LaTeX notations can be used\n",
    "---\n",
    "\n",
    "This is for including scientific and mathematical notations\n",
    "\n",
    "Just add latex commands within dollar signs\n",
    "\n",
    "    $\\int_a^b f(x)dx$\n",
    "    \n",
    "becomes\n",
    "$\\int_a^b f(x)dx$"
   ]
  },
  {
   "cell_type": "markdown",
   "metadata": {
    "slideshow": {
     "slide_type": "fragment"
    }
   },
   "source": [
    "To enable the import of Images, use ```Image``` function. For instance\n",
    "\n",
    "```python\n",
    "Image(filename='IISc_logo.jpg',width=200,height=200) \n",
    "```\n",
    "\n",
    "And your image pops up like this"
   ]
  },
  {
   "cell_type": "code",
   "execution_count": 6,
   "metadata": {
    "collapsed": false,
    "slideshow": {
     "slide_type": "fragment"
    }
   },
   "outputs": [
    {
     "data": {
      "image/jpeg": "[encoded data removed]",
      "text/plain": [
       "<IPython.core.display.Image object>"
      ]
     },
     "execution_count": 6,
     "metadata": {
      "image/jpeg": {
       "height": 200,
       "width": 200
      }
     },
     "output_type": "execute_result"
    }
   ],
   "source": [
    "Image(filename='IISc_logo.jpg',width=200,height=200)"
   ]
  },
  {
   "cell_type": "markdown",
   "metadata": {
    "slideshow": {
     "slide_type": "slide"
    }
   },
   "source": [
    "# To make a slide show\n",
    "---\n",
    "\n",
    "* Use the documentation skills nicely and effectively.\n",
    "* Set the top cell toolbar to Slideshow option, thereby enabling it.\n",
    "* While typing the contents, set the slide type near the right end of the cells to\n",
    "    * Slide (Major Sections in the Presentation)\n",
    "    * Sub-Slide (Subsections for Sections)\n",
    "    * Skip (To avoid slides in presentation)\n",
    "    * Fragment (To enable point-by-point transition)\n",
    "    * None (No specific format. Follows Fragment)\n",
    "    \n",
    "IPython notebook enables a 2D presentation instead of 1D presentation."
   ]
  },
  {
   "cell_type": "markdown",
   "metadata": {
    "slideshow": {
     "slide_type": "fragment"
    }
   },
   "source": [
    "For More Details, checkout http://www.damian.oquanta.info/ for details and expansions in advanced and basic queries in IPython notebooks!"
   ]
  },
  {
   "cell_type": "markdown",
   "metadata": {
    "slideshow": {
     "slide_type": "subslide"
    }
   },
   "source": [
    "# To get a presentation\n",
    "---\n",
    "\n",
    "To make a presentation, type\n",
    "\n",
    "    ipython nbconvert notebookname.ipynb --to slides\n",
    "    \n",
    "You will get an embedded HTML file.\n",
    "\n",
    "To enable proper presentation with transitions, type\n",
    "\n",
    "    ipython nbconvert notebookname.ipynb --to slides --post serve"
   ]
  },
  {
   "cell_type": "markdown",
   "metadata": {
    "slideshow": {
     "slide_type": "fragment"
    }
   },
   "source": [
    "You may have to install mathjax and several other libraries to get a presentation. But, it is not difficult"
   ]
  },
  {
   "cell_type": "markdown",
   "metadata": {
    "slideshow": {
     "slide_type": "slide"
    }
   },
   "source": [
    "# Where do you stand?\n",
    "---\n",
    "\n",
    "Once mastered these concepts, you will have\n",
    "\n",
    "* A reasonable set of programming skills to tackle research\n",
    "* A proper tool to document and your work and to experiment with\n",
    "\n",
    "You may have to learn other skills like (Depends on the case)\n",
    "\n",
    "* Shell programming\n",
    "* Operations in Linux/Unix\n",
    "* LaTeX\n",
    "* Other programming languages\n",
    "* Version Controls\n",
    "\n",
    "These are subjective and varies with individual need!"
   ]
  },
  {
   "cell_type": "markdown",
   "metadata": {
    "slideshow": {
     "slide_type": "slide"
    }
   },
   "source": [
    "# Important Links\n",
    "---\n",
    "\n",
    "http://faculty.washington.edu/rjl/uwhpsc-coursera/\n",
    "\n",
    "This is a famous Coursera Course on High Performance Computing (Fortran, Git, Bitbucket, Python, OpenMP, MPI and some Advanced Mathematical Programming).\n",
    "\n",
    "Moreoever, the documentations from the following webpages are useful immensely!\n",
    "\n",
    "* Scipy\n",
    "* Numpy\n",
    "* Matplotlib\n",
    "* Wakari (Online Python Terminal and IPython notebook)\n",
    "* Sympy\n",
    "* Stackexchange\n",
    "* Conda\n",
    "* Enthought\n",
    "\n",
    "Type in these names in google and you will get enough information"
   ]
  },
  {
   "cell_type": "markdown",
   "metadata": {
    "slideshow": {
     "slide_type": "slide"
    }
   },
   "source": [
    "# About Cython ...\n",
    "---\n",
    "\n",
    "It is a combination of Python and C. This methodology can make you write a few more lines of codes to your python script to make it run as fast as a C code!\n",
    "\n",
    "This is worth experimenting! It's a bit hard, but can be implemented"
   ]
  },
  {
   "cell_type": "markdown",
   "metadata": {
    "slideshow": {
     "slide_type": "slide"
    }
   },
   "source": [
    "# f2py\n",
    "---\n",
    "\n",
    "Invoking Fortran procedures (functions and subroutines) inside python.\n",
    "\n",
    "Used for making certain tedious operations passed to fortran to enable speed, but retain python to have an overall control.\n",
    "\n",
    "A nice tool to combine Speed (Fortran) and Simplicity (Python)."
   ]
  },
  {
   "cell_type": "markdown",
   "metadata": {
    "slideshow": {
     "slide_type": "fragment"
    }
   },
   "source": [
    "## How to make it?\n",
    "---\n",
    "\n",
    "* Write a fortran file having all subroutines and modules.\n",
    "* Compile it using f2py to get a shared object\n",
    "* Import it as a module in python\n",
    "* Use it like a regular python class/function/object"
   ]
  },
  {
   "cell_type": "markdown",
   "metadata": {
    "slideshow": {
     "slide_type": "slide"
    }
   },
   "source": [
    "#Thank you!"
   ]
  },
  {
   "cell_type": "code",
   "execution_count": null,
   "metadata": {
    "collapsed": true
   },
   "outputs": [],
   "source": []
  }
 ],
 "metadata": {
  "celltoolbar": "Slideshow",
  "kernelspec": {
   "display_name": "Python 2",
   "language": "python",
   "name": "python2"
  },
  "language_info": {
   "codemirror_mode": {
    "name": "ipython",
    "version": 2
   },
   "file_extension": ".py",
   "mimetype": "text/x-python",
   "name": "python",
   "nbconvert_exporter": "python",
   "pygments_lexer": "ipython2",
   "version": "2.7.10"
  }
 },
 "nbformat": 4,
 "nbformat_minor": 0
}
